{
  "nbformat": 4,
  "nbformat_minor": 0,
  "metadata": {
    "colab": {
      "provenance": []
    },
    "kernelspec": {
      "name": "python3",
      "display_name": "Python 3"
    },
    "language_info": {
      "name": "python"
    }
  },
  "cells": [
    {
      "cell_type": "code",
      "execution_count": 1,
      "metadata": {
        "id": "thZm_fegUczD"
      },
      "outputs": [],
      "source": [
        "import pandas as pd\n",
        "import numpy as np\n",
        "import torch\n",
        "import torch.nn as nn\n",
        "import torch.optim as optim\n",
        "from sklearn.model_selection import train_test_split\n",
        "from torch.utils.data import DataLoader, TensorDataset, Dataset\n",
        "from sklearn.preprocessing import StandardScaler\n",
        "import matplotlib.pyplot as plt\n",
        "from sklearn.metrics import confusion_matrix, ConfusionMatrixDisplay\n",
        "import torch.optim as optim\n",
        "from sklearn.model_selection import ParameterGrid"
      ]
    },
    {
      "cell_type": "code",
      "source": [
        "from google.colab import drive\n",
        "drive.mount('/content/drive')"
      ],
      "metadata": {
        "id": "uFPmiNCnVNyt",
        "colab": {
          "base_uri": "https://localhost:8080/"
        },
        "outputId": "fd2e31ed-3216-4088-ab26-15692fa974d4"
      },
      "execution_count": 2,
      "outputs": [
        {
          "output_type": "stream",
          "name": "stdout",
          "text": [
            "Mounted at /content/drive\n"
          ]
        }
      ]
    },
    {
      "cell_type": "code",
      "source": [
        "train_seoul = pd.read_csv('/content/drive/MyDrive/train_seoul.csv', encoding='utf-8')\n",
        "test_seoul = pd.read_csv('/content/drive/MyDrive/test_seoul.csv', encoding='utf-8')"
      ],
      "metadata": {
        "id": "5X3MKKl2VVu4"
      },
      "execution_count": 3,
      "outputs": []
    },
    {
      "cell_type": "code",
      "source": [
        "from re import X\n",
        "target_var = \"관측미세먼지\"\n",
        "\n",
        "X_train = train_seoul.drop(columns=[target_var]).values\n",
        "Y_train = train_seoul[target_var].values\n",
        "\n",
        "X_test = test_seoul.drop(columns=[target_var]).values\n",
        "Y_test = test_seoul[target_var].values\n",
        "\n",
        "scaler = StandardScaler()\n",
        "\n",
        "columns_to_scale_train = np.hstack((X_train[:, :-3], X_train[:, -1:]))\n",
        "columns_to_scale_test = np.hstack((X_test[:, :-3], X_test[:, -1:]))\n",
        "X_train_scaled = scaler.fit_transform(columns_to_scale_train)\n",
        "X_test_scaled = scaler.transform(columns_to_scale_test)\n",
        "\n",
        "X_train = np.hstack((X_train_scaled, X_train[:, -3:-2], X_train[:, -2:-1]))\n",
        "X_test = np.hstack((X_test_scaled, X_test[:, -3:-2], X_test[:, -2:-1]))\n",
        "\n",
        "train_columns = list(train_seoul.columns[:-4]) + [train_seoul.columns[-1], train_seoul.columns[-4], train_seoul.columns[-3]]\n",
        "\n",
        "scaled_train_seoul = pd.DataFrame(X_train, columns=train_columns)\n",
        "scaled_train_seoul[target_var] = Y_train\n",
        "scaled_test_seoul = pd.DataFrame(X_test, columns=train_columns)\n",
        "scaled_test_seoul[target_var] = Y_test"
      ],
      "metadata": {
        "collapsed": true,
        "id": "euEHFtx3WNRX"
      },
      "execution_count": 4,
      "outputs": []
    },
    {
      "cell_type": "code",
      "source": [
        "def create_sequences(data, sequence_length=32):\n",
        "    sequences = []\n",
        "    labels = []\n",
        "\n",
        "    # \"경과일\"과 \"경과시간\"을 분 단위로 변환\n",
        "    data['total_minutes'] = data['경과일'] * 1440 + data['경과시간']\n",
        "\n",
        "    start_index = 0\n",
        "\n",
        "    while start_index < len(data):\n",
        "        start_time = data.iloc[start_index]['total_minutes']\n",
        "        end_time = start_time + sequence_length\n",
        "\n",
        "        end_index = start_index\n",
        "        while end_index < len(data) and data.iloc[end_index]['total_minutes'] < end_time:\n",
        "            end_index += 1\n",
        "\n",
        "        subset = data.iloc[start_index:end_index]\n",
        "        if len(subset) > 0:\n",
        "            sequence = subset.drop(columns=['경과일', '경과시간', 'total_minutes', '관측미세먼지']).values\n",
        "\n",
        "            # 시퀀스가 너무 길면 자르기\n",
        "            if len(sequence) > sequence_length:\n",
        "                sequence = sequence[:sequence_length]\n",
        "            else:\n",
        "                # 시퀀스 길이를 일정하게 만들기 위해 padding 적용\n",
        "                padded_sequence = np.zeros((sequence_length, sequence.shape[1]))\n",
        "                padded_sequence[:sequence.shape[0], :] = sequence\n",
        "                sequence = padded_sequence\n",
        "\n",
        "            sequences.append(sequence)\n",
        "            # 라벨 생성: 마지막 \"관측미세먼지\" 값을 라벨로 사용\n",
        "            label = 1 if subset[target_var].iloc[-1] > 80 else 0  # 라벨을 이진 분류 문제로 설정\n",
        "            labels.append(label)\n",
        "\n",
        "        start_index = end_index\n",
        "\n",
        "    return np.array(sequences), np.array(labels)"
      ],
      "metadata": {
        "id": "HBBu5h8ViZfM"
      },
      "execution_count": 16,
      "outputs": []
    },
    {
      "cell_type": "code",
      "source": [
        "# 시계열 데이터 생성\n",
        "X_train_seq, y_train_seq = create_sequences(scaled_train_seoul)\n",
        "X_test_seq, y_test_seq = create_sequences(scaled_test_seoul)\n",
        "\n",
        "len(y_test_seq)"
      ],
      "metadata": {
        "id": "gkW7j3YQqraK",
        "colab": {
          "base_uri": "https://localhost:8080/"
        },
        "outputId": "f23d0f13-cb94-4124-93c0-09a6b18421df"
      },
      "execution_count": 17,
      "outputs": [
        {
          "output_type": "execute_result",
          "data": {
            "text/plain": [
              "184"
            ]
          },
          "metadata": {},
          "execution_count": 17
        }
      ]
    },
    {
      "cell_type": "code",
      "source": [
        "class TimeSeriesDataset(Dataset):\n",
        "    def __init__(self, sequences, labels):\n",
        "        self.sequences = sequences\n",
        "        self.labels = labels\n",
        "\n",
        "    def __len__(self):\n",
        "        return len(self.sequences)\n",
        "\n",
        "    def __getitem__(self, idx):\n",
        "        return torch.tensor(self.sequences[idx], dtype=torch.float32), torch.tensor(self.labels[idx], dtype=torch.long)\n",
        "\n",
        "train_dataset = TimeSeriesDataset(X_train_seq, y_train_seq)\n",
        "test_dataset = TimeSeriesDataset(X_test_seq, y_test_seq)\n",
        "\n",
        "train_loader = DataLoader(train_dataset, batch_size=32, shuffle=True)\n",
        "test_loader = DataLoader(test_dataset, batch_size=32, shuffle=False)"
      ],
      "metadata": {
        "id": "q4D-_rhUkbOw"
      },
      "execution_count": 18,
      "outputs": []
    },
    {
      "cell_type": "code",
      "source": [
        "class TransformerEncoderModel(nn.Module):\n",
        "    def __init__(self, input_dim, num_classes, nhead, num_encoder_layers, dim_feedforward, dropout):\n",
        "        super(TransformerEncoderModel, self).__init__()\n",
        "        encoder_layers = nn.TransformerEncoderLayer(d_model=input_dim, nhead=nhead, dim_feedforward=dim_feedforward, dropout=dropout)\n",
        "        self.transformer_encoder = nn.TransformerEncoder(encoder_layers, num_layers=num_encoder_layers)\n",
        "        self.fc = nn.Linear(input_dim, num_classes)\n",
        "\n",
        "    def forward(self, src):\n",
        "        src = src.permute(1, 0, 2)  # Transformer expects (seq_len, batch_size, input_dim)\n",
        "        output = self.transformer_encoder(src)\n",
        "        output = output.mean(dim=0)  # Average over the sequence length\n",
        "        output = self.fc(output)\n",
        "        return output\n",
        "\n",
        "input_dim = 28  # input_dim을 28로 설정\n",
        "num_classes = 2\n",
        "nhead = 4\n",
        "num_encoder_layers = 3\n",
        "dim_feedforward = 128\n",
        "dropout = 0.1\n",
        "\n",
        "model = TransformerEncoderModel(input_dim, num_classes, nhead, num_encoder_layers, dim_feedforward, dropout)\n",
        "\n",
        "criterion = nn.CrossEntropyLoss()\n",
        "optimizer = torch.optim.Adam(model.parameters(), lr=0.001)\n",
        "\n",
        "# Training loop\n",
        "num_epochs = 5\n",
        "model.train()\n",
        "for epoch in range(num_epochs):\n",
        "    for X_batch, y_batch in train_loader:\n",
        "        optimizer.zero_grad()\n",
        "        output = model(X_batch)\n",
        "        loss = criterion(output, y_batch)\n",
        "        loss.backward()\n",
        "        optimizer.step()\n",
        "    print(f'Epoch {epoch+1}/{num_epochs}, Loss: {loss.item()}')\n",
        "\n",
        "torch.save(model.state_dict(), 'transformer_model.pth')"
      ],
      "metadata": {
        "id": "el5THS1Am7s-",
        "colab": {
          "base_uri": "https://localhost:8080/"
        },
        "outputId": "0085815b-7dcb-4f4b-df65-69505d7d8121"
      },
      "execution_count": 19,
      "outputs": [
        {
          "output_type": "stream",
          "name": "stderr",
          "text": [
            "/usr/local/lib/python3.10/dist-packages/torch/nn/modules/transformer.py:306: UserWarning: enable_nested_tensor is True, but self.use_nested_tensor is False because encoder_layer.self_attn.batch_first was not True(use batch_first for better inference performance)\n",
            "  warnings.warn(f\"enable_nested_tensor is True, but self.use_nested_tensor is False because {why_not_sparsity_fast_path}\")\n"
          ]
        },
        {
          "output_type": "stream",
          "name": "stdout",
          "text": [
            "Epoch 1/5, Loss: 0.02039450593292713\n",
            "Epoch 2/5, Loss: 0.013311685994267464\n",
            "Epoch 3/5, Loss: 0.00547271640971303\n",
            "Epoch 4/5, Loss: 0.004312746226787567\n",
            "Epoch 5/5, Loss: 0.005857654381543398\n"
          ]
        }
      ]
    },
    {
      "cell_type": "code",
      "source": [
        "# Grid search\n",
        "\n",
        "# 하이퍼파라미터 그리드 설정\n",
        "param_grid = {\n",
        "    'sequence_length': [360],\n",
        "    'num_encoder_layers': [2, 3],\n",
        "    'dim_feedforward': [128, 256],\n",
        "    'dropout': [0.1, 0.3],\n",
        "    'lr': [1e-2, 1e-3]\n",
        "}\n",
        "\n",
        "# 그리드 서치를 위한 함수 정의\n",
        "def grid_search(param_grid, train_data, test_data):\n",
        "    best_accuracy = 0.0\n",
        "    best_params = None\n",
        "    best_cm = None\n",
        "\n",
        "    for params in ParameterGrid(param_grid):\n",
        "        print(f\"Training with parameters: {params}\")\n",
        "\n",
        "        # 데이터 전처리\n",
        "        sequence_length = params['sequence_length']\n",
        "        X_train_seq, y_train_seq = create_sequences(train_data, sequence_length)\n",
        "        X_test_seq, y_test_seq = create_sequences(test_data, sequence_length)\n",
        "\n",
        "        train_loader = DataLoader(TimeSeriesDataset(X_train_seq, y_train_seq), batch_size=32, shuffle=True)\n",
        "        test_loader = DataLoader(TimeSeriesDataset(X_test_seq, y_test_seq), batch_size=32, shuffle=False)\n",
        "\n",
        "        # 모델 정의\n",
        "        model = TransformerEncoderModel(input_dim=28, num_classes=2, nhead=4,\n",
        "                                        num_encoder_layers=params['num_encoder_layers'],\n",
        "                                        dim_feedforward=params['dim_feedforward'],\n",
        "                                        dropout=params['dropout'])\n",
        "\n",
        "        optimizer = optim.Adam(model.parameters(), lr=params['lr'])\n",
        "        criterion = nn.CrossEntropyLoss()\n",
        "\n",
        "        # Training loop\n",
        "        num_epochs = 10  # 하이퍼파라미터 튜닝 시 시간 절약을 위해 epochs 수를 적게 설정\n",
        "        model.train()\n",
        "        for epoch in range(num_epochs):\n",
        "            for X_batch, y_batch in train_loader:\n",
        "                optimizer.zero_grad()\n",
        "                output = model(X_batch)\n",
        "                loss = criterion(output, y_batch)\n",
        "                loss.backward()\n",
        "                optimizer.step()\n",
        "\n",
        "        # 예측 및 평가\n",
        "        y_true, y_pred, test_accuracy = predict_and_evaluate(model, test_loader)\n",
        "\n",
        "        # 혼동 행렬 출력\n",
        "        cm = confusion_matrix(y_true, y_pred)\n",
        "        disp = ConfusionMatrixDisplay(confusion_matrix=cm, display_labels=[\"low\", \"high\"])\n",
        "        disp.plot(cmap=plt.cm.Blues, values_format='d')\n",
        "        plt.title(f\"Confusion Matrix\\nParams: {params}\")\n",
        "        plt.show()\n",
        "\n",
        "        # 최적 모델 저장\n",
        "        if test_accuracy > best_accuracy:\n",
        "            best_accuracy = test_accuracy\n",
        "            best_params = params\n",
        "            best_cm = cm\n",
        "\n",
        "    return best_params, best_accuracy, best_cm\n",
        "\n",
        "# 하이퍼파라미터 그리드 서치 수행\n",
        "best_params, best_accuracy, best_cm = grid_search(param_grid, scaled_train_seoul, scaled_test_seoul)\n",
        "\n",
        "# 최적 하이퍼파라미터 및 정확도 출력\n",
        "print(f'Best Params: {best_params}')\n",
        "print(f'Best Accuracy: {best_accuracy:.2f}%')\n",
        "\n",
        "# 최적 혼동 행렬 시각화\n",
        "disp = ConfusionMatrixDisplay(confusion_matrix=best_cm, display_labels=[\"low\", \"high\"])\n",
        "disp.plot(cmap=plt.cm.Blues, values_format='d')\n",
        "\n",
        "# 혼동 행렬의 제목에 최적 하이퍼파라미터 나열\n",
        "plt.title(f\"Confusion Matrix\\nBest Params: {best_params}\")\n",
        "plt.show()\n"
      ],
      "metadata": {
        "id": "YBRpeHoP2M74"
      },
      "execution_count": null,
      "outputs": []
    },
    {
      "cell_type": "code",
      "source": [
        "# Test loop\n",
        "def predict_and_evaluate(model, test_loader):\n",
        "    model.eval()\n",
        "    all_preds = []\n",
        "    all_labels = []\n",
        "    correct = 0\n",
        "    total = 0\n",
        "\n",
        "    with torch.no_grad():\n",
        "        for X_batch, y_batch in test_loader:\n",
        "            output = model(X_batch)\n",
        "            _, preds = torch.max(output.data, 1)\n",
        "            all_preds.extend(preds.cpu().numpy())\n",
        "            all_labels.extend(y_batch.cpu().numpy())\n",
        "            total += y_batch.size(0)\n",
        "            correct += (preds == y_batch).sum().item()\n",
        "\n",
        "    accuracy = 100 * correct / total\n",
        "    return all_labels, all_preds, accuracy\n",
        "\n",
        "# 모델 로드\n",
        "model = TransformerEncoderModel(input_dim=28, num_classes=2, nhead=nhead, num_encoder_layers=num_encoder_layers,\n",
        "                                dim_feedforward=dim_feedforward, dropout=dropout)\n",
        "model.load_state_dict(torch.load('transformer_model.pth'))\n",
        "\n",
        "# 테스트 데이터 로더 생성\n",
        "test_loader = DataLoader(TimeSeriesDataset(X_test_seq, y_test_seq), batch_size=32, shuffle=False)\n",
        "\n",
        "# 예측 및 평가\n",
        "y_true, y_pred, test_accuracy = predict_and_evaluate(model, test_loader)\n",
        "\n",
        "print(f'Test Accuracy: {test_accuracy:.2f}%')\n",
        "\n",
        "# Confusion Matrix 계산\n",
        "cm = confusion_matrix(y_true, y_pred)\n",
        "disp = ConfusionMatrixDisplay(confusion_matrix=cm, display_labels=[\"low\", \"high\"])\n",
        "\n",
        "# Confusion Matrix 시각화\n",
        "disp.plot(cmap=plt.cm.Blues)\n",
        "plt.title(\"Confusion Matrix\")\n",
        "plt.show()"
      ],
      "metadata": {
        "id": "ljvWvjql0I0k",
        "colab": {
          "base_uri": "https://localhost:8080/",
          "height": 490
        },
        "outputId": "53849418-4fc1-4643-a0d0-14cb378b73b0"
      },
      "execution_count": 20,
      "outputs": [
        {
          "output_type": "stream",
          "name": "stdout",
          "text": [
            "Test Accuracy: 92.93%\n"
          ]
        },
        {
          "output_type": "display_data",
          "data": {
            "text/plain": [
              "<Figure size 640x480 with 2 Axes>"
            ],
            "image/png": "[encoded data removed]"
          },
          "metadata": {}
        }
      ]
    },
    {
      "cell_type": "code",
      "source": [
        "def preprocess_input(date, time, scaled_data, sequence_length=1440):\n",
        "    # 날짜와 시간을 분 단위로 변환\n",
        "    total_minutes = date * 1440 + time\n",
        "\n",
        "    # 입력 시퀀스 생성\n",
        "    subset = scaled_data[scaled_data['total_minutes'] <= total_minutes].tail(sequence_length)\n",
        "\n",
        "    # 확인: subset의 길이 확인\n",
        "    print(f\"Subset length: {len(subset)}\")\n",
        "\n",
        "    if len(subset) < sequence_length:\n",
        "        padded_sequence = np.zeros((sequence_length, len(subset.columns) - 4))\n",
        "        if len(subset) > 0:\n",
        "            sequence = subset.drop(columns=['경과일', '경과시간', 'total_minutes', '관측미세먼지']).values\n",
        "            padded_sequence[-len(sequence):, :] = sequence\n",
        "    else:\n",
        "        sequence = subset.drop(columns=['경과일', '경과시간', 'total_minutes', '관측미세먼지']).values\n",
        "        padded_sequence = sequence[-sequence_length:]\n",
        "\n",
        "    return torch.tensor(padded_sequence, dtype=torch.float32).unsqueeze(0)"
      ],
      "metadata": {
        "id": "1SAAtMDSyWkL"
      },
      "execution_count": null,
      "outputs": []
    },
    {
      "cell_type": "code",
      "source": [
        "def classify_air_quality(date, time, scaled_data):\n",
        "    # 모델 로드\n",
        "    input_dim = 28\n",
        "    num_classes = 2\n",
        "    nhead = 4\n",
        "    num_encoder_layers = 3\n",
        "    dim_feedforward = 128\n",
        "    dropout = 0.1\n",
        "\n",
        "    model = TransformerEncoderModel(input_dim, num_classes, nhead, num_encoder_layers, dim_feedforward, dropout)\n",
        "    model.load_state_dict(torch.load('transformer_model.pth'))\n",
        "    model.eval()\n",
        "\n",
        "    # 입력 데이터 전처리\n",
        "    input_tensor = preprocess_input(date, time, scaled_data)\n",
        "\n",
        "    # 예측\n",
        "    with torch.no_grad():\n",
        "        output = model(input_tensor)\n",
        "        _, predicted = torch.max(output.data, 1)\n",
        "\n",
        "    # 결과 출력\n",
        "    if predicted.item() == 1:\n",
        "        return \"고미세먼지\"\n",
        "    else:\n",
        "        return \"아님\""
      ],
      "metadata": {
        "id": "vB7eeGhmyY_Y"
      },
      "execution_count": null,
      "outputs": []
    },
    {
      "cell_type": "code",
      "source": [
        "# 사용 예시\n",
        "date = 2000  # 예시 날짜 (경과일)\n",
        "time = 720  # 예시 시간 (경과시간)\n",
        "result = classify_air_quality(date, time, scaled_train_seoul)\n",
        "print(f'날짜: {date}, 시간: {time} - 미세먼지 농도: {result}')"
      ],
      "metadata": {
        "id": "knmtYP-rya5v"
      },
      "execution_count": null,
      "outputs": []
    }
  ]
}