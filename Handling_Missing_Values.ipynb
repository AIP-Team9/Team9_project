{
  "cells": [
    {
      "cell_type": "code",
      "execution_count": null,
      "metadata": {
        "id": "wFHau7kPzVKR"
      },
      "outputs": [],
      "source": [
        "import pandas as pd\n",
        "import numpy as np\n",
        "import torch\n",
        "import torch.nn as nn\n",
        "import torch.optim as optim\n",
        "from sklearn.model_selection import train_test_split\n",
        "from torch.utils.data import DataLoader, TensorDataset\n",
        "from sklearn.preprocessing import StandardScaler"
      ]
    },
    {
      "cell_type": "code",
      "execution_count": null,
      "metadata": {
        "id": "eXTkjZAHzdIS"
      },
      "outputs": [],
      "source": [
        "from google.colab import drive\n",
        "drive.mount('/content/drive')"
      ]
    },
    {
      "cell_type": "code",
      "execution_count": null,
      "metadata": {
        "id": "hvC54Zfuzj95"
      },
      "outputs": [],
      "source": [
        "# CSV 파일 로드\n",
        "data = pd.read_csv('/content/drive/MyDrive/data_2024_1.csv', encoding='euc-kr')\n",
        "\n",
        "# 결측치 처리\n",
        "data.dropna(subset=[\"관측시간\", \"관측지점\"], inplace=True)\n",
        "\n",
        "# 관측시간을 datetime 타입으로 변환\n",
        "data[\"관측시간\"] = pd.to_datetime(data[\"관측시간\"])\n",
        "\n",
        "data[[\"관측지점\", \"관측지점세부\"]] = data[\"관측지점\"].str.split('_', expand=True)\n",
        "\n",
        "columns_to_fill = [\"관측최대풍속\"]\n",
        "columns_to_fill = [\"관측최대풍속\", \"(AVOC)관측최대풍속\", \"(BVOC)관측최대풍속\"]\n",
        "\n",
        "for column in columns_to_fill:\n",
        "    data[column] = data.groupby([\"관측시간\", \"관측지점\"])[column].transform(\n",
        "        lambda x: x.fillna(x.mean())\n",
        "    )\n",
        "\n",
        "    # 그래도 남아있는 결측치는 관측지점으로 채우기\n",
        "    data[column] = data.groupby('관측지점')[column].transform(\n",
        "        lambda x: x.fillna(x.mean())\n",
        "    )\n",
        "\n",
        "    # 그래도 남아있는 결측치는 관측시간으로 채우기\n",
        "    data[column] = data.groupby('관측시간')[column].transform(\n",
        "        lambda x: x.fillna(x.mean())\n",
        "    )\n",
        "\n",
        "    # 여전히 남아있는 결측치는 전체 평균으로 채우기\n",
        "    overall_mean = data[column].mean()\n",
        "    data[column].fillna(overall_mean, inplace=True)"
      ]
    },
    {
      "cell_type": "code",
      "execution_count": null,
      "metadata": {
        "id": "BTLEioEYCRKU"
      },
      "outputs": [],
      "source": [
        "# 결측치 처리 전 결측치 확인\n",
        "if data.isnull().values.any():\n",
        "    print(\"데이터프레임에 결측치가 있습니다.\")\n",
        "else:\n",
        "    print(\"데이터프레임에 결측치가 없습니다.\")\n",
        "\n",
        "# 각 열의 결측치 수 확인\n",
        "missing_values = data.isnull().sum()\n",
        "print(\"각 열의 결측치 수:\")\n",
        "print(missing_values)\n",
        "\n",
        "# 결측치가 있는 열만 출력\n",
        "# missing_columns = missing_values[missing_values > 0]\n",
        "# print(\"결측치가 있는 열과 그 수:\")\n",
        "# print(missing_columns)"
      ]
    },
    {
      "cell_type": "code",
      "execution_count": null,
      "metadata": {
        "id": "7jnrFq7WEpP0"
      },
      "outputs": [],
      "source": [
        "data.sort_values(by=\"관측시간\", inplace=True)\n",
        "\n",
        "train_ratio = 0.9\n",
        "\n",
        "train_size = int(len(data) * train_ratio)\n",
        "train_data = data.iloc[:train_size]\n",
        "test_data = data.iloc[train_size:]\n",
        "\n",
        "print(\"훈련 데이터 크기:\", len(train_data))\n",
        "print(\"테스트 데이터 크기:\", len(test_data))\n",
        "\n",
        "# 아직 관측지점 및 관측지점세부 고려하지 않음\n",
        "train_data = train_data.drop(columns=['관측지점', '관측지점세부'])\n",
        "test_data = test_data.drop(columns=['관측지점', '관측지점세부'])\n",
        "\n",
        "train_data.to_csv(\"train_data.csv\", index=False)\n",
        "test_data.to_csv(\"test_data.csv\", index=False)"
      ]
    }
  ],
  "metadata": {
    "colab": {
      "private_outputs": true,
      "provenance": []
    },
    "kernelspec": {
      "display_name": "Python 3",
      "name": "python3"
    },
    "language_info": {
      "name": "python"
    }
  },
  "nbformat": 4,
  "nbformat_minor": 0
}
