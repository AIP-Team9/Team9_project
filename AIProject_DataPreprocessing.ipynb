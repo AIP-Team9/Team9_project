{
  "nbformat": 4,
  "nbformat_minor": 0,
  "metadata": {
    "colab": {
      "provenance": []
    },
    "kernelspec": {
      "name": "python3",
      "display_name": "Python 3"
    },
    "language_info": {
      "name": "python"
    }
  },
  "cells": [
    {
      "cell_type": "code",
      "source": [
        "import pandas as pd\n",
        "from sklearn.model_selection import train_test_split\n"
      ],
      "metadata": {
        "id": "_qDEJqY8SoD3"
      },
      "execution_count": null,
      "outputs": []
    },
    {
      "cell_type": "code",
      "source": [
        "from google.colab import drive\n",
        "drive.mount('/content/drive')"
      ],
      "metadata": {
        "colab": {
          "base_uri": "https://localhost:8080/"
        },
        "id": "1uGbxK14Snns",
        "outputId": "22b4f89e-ca79-4a48-afb1-3f19518df629"
      },
      "execution_count": null,
      "outputs": [
        {
          "output_type": "stream",
          "name": "stdout",
          "text": [
            "Mounted at /content/drive\n"
          ]
        }
      ]
    },
    {
      "cell_type": "code",
      "execution_count": null,
      "metadata": {
        "colab": {
          "base_uri": "https://localhost:8080/"
        },
        "id": "oBv5smWiHy10",
        "outputId": "38ef5190-9608-4f29-f9dc-7cce3d87ed8e"
      },
      "outputs": [
        {
          "output_type": "stream",
          "name": "stdout",
          "text": [
            "   Air Pollution Observation Point Identification Code Number  \\\n",
            "0                                              12004            \n",
            "1                                              12004            \n",
            "2                                              12004            \n",
            "3                                              12004            \n",
            "4                                              12004            \n",
            "\n",
            "  Observation point name Date and time of measurement  \\\n",
            "0           GuSeong-Dong              2019-10-19 3:00   \n",
            "1           GuSeong-Dong              2019-10-18 2:00   \n",
            "2           GuSeong-Dong             2019-10-19 11:00   \n",
            "3           GuSeong-Dong              2019-10-20 6:00   \n",
            "4           GuSeong-Dong             2019-10-20 10:00   \n",
            "\n",
            "  Concentration of sulfur dioxide  Sulphuric acid gas grade value  \\\n",
            "0                           0.002                             0.2   \n",
            "1                           0.002                             0.4   \n",
            "2                           0.002                             0.3   \n",
            "3                           0.002                             0.4   \n",
            "4                           0.002                             0.5   \n",
            "\n",
            "   Carbon monoxide concentration  Carbon monoxide grade  Ozone concentration  \\\n",
            "0                          0.028                  0.013                    6   \n",
            "1                          0.016                  0.025                   18   \n",
            "2                          0.039                  0.019                   49   \n",
            "3                          0.045                  0.016                   17   \n",
            "4                          0.053                  0.015                   29   \n",
            "\n",
            "   Ozone grade  Nitrogen dioxide concentration  ...  \\\n",
            "0           47                               1  ...   \n",
            "1           42                               1  ...   \n",
            "2           58                               2  ...   \n",
            "3           63                               2  ...   \n",
            "4           69                               2  ...   \n",
            "\n",
            "   24-hour ultrafine dust grade  Integrated air environment figures  \\\n",
            "0                             1                                   -   \n",
            "1                             1                                  16   \n",
            "2                             2                                  19   \n",
            "3                             1                                  15   \n",
            "4                             1                                  18   \n",
            "\n",
            "   Integrated atmospheric environmental grade  Data serial number  \\\n",
            "0                                                         2958620   \n",
            "1                                           2             2958595   \n",
            "2                                           2             2958628   \n",
            "3                                           1             2958647   \n",
            "4                                           2             2958651   \n",
            "\n",
            "   Operation classification code Date and time of occurrence  \\\n",
            "0                              I           20191204092220FF3   \n",
            "1                              I           20191204092220FF3   \n",
            "2                              I           20191204092220FF3   \n",
            "3                              I           20191204092220FF3   \n",
            "4                              I           20191204092220FF3   \n",
            "\n",
            "  Date and time of link start  Date and time of link processing  \\\n",
            "0                2.020000e+13                                     \n",
            "1                2.020000e+13                                     \n",
            "2                2.020000e+13                                     \n",
            "3                2.020000e+13                                     \n",
            "4                2.020000e+13                                     \n",
            "\n",
            "  Link processing status code Transaction ID  \n",
            "0                           N            NaN  \n",
            "1                           N            NaN  \n",
            "2                           N            NaN  \n",
            "3                           N            NaN  \n",
            "4                           N            NaN  \n",
            "\n",
            "[5 rows x 24 columns]\n"
          ]
        }
      ],
      "source": [
        "data = pd.read_csv('/content/drive/MyDrive/data.csv', encoding='ISO-8859-1')\n",
        "\n",
        "# Shuffle the data\n",
        "data = data.sample(frac=1).reset_index(drop=True)\n",
        "\n",
        "print(data.head())\n",
        "# Define split ratios\n",
        "train_ratio = 0.7\n",
        "validation_ratio = 0.15\n",
        "test_ratio = 0.15\n",
        "\n",
        "# Split the data into training, validation, and testing sets\n",
        "train_data, temp_data = train_test_split(data, test_size=(1 - train_ratio))\n",
        "val_data, test_data = train_test_split(temp_data, test_size=test_ratio/(test_ratio + validation_ratio))\n",
        "\n",
        "# Save the splits to CSV files if needed\n",
        "train_data.to_csv(\"train_data.csv\", index=False)\n",
        "val_data.to_csv(\"val_data.csv\", index=False)\n",
        "test_data.to_csv(\"test_data.csv\", index=False)"
      ]
    }
  ]
}