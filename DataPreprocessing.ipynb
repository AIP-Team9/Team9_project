{
  "cells": [
    {
      "cell_type": "markdown",
      "metadata": {},
      "source": [
        "# 시계열 데이터 반영을 하지 않은 버전으로, 시계열 데이터 반영을 반영한 버전은 Handling_Missing_Values.ipynb를 참고하세요"
      ]
    },
    {
      "cell_type": "code",
      "execution_count": 1,
      "metadata": {
        "id": "_qDEJqY8SoD3"
      },
      "outputs": [],
      "source": [
        "import pandas as pd\n",
        "from sklearn.model_selection import train_test_split\n"
      ]
    },
    {
      "cell_type": "code",
      "execution_count": 2,
      "metadata": {
        "colab": {
          "base_uri": "https://localhost:8080/"
        },
        "id": "1uGbxK14Snns",
        "outputId": "5d51e8a7-b66d-4878-f95f-e6fc4822e59c"
      },
      "outputs": [
        {
          "name": "stdout",
          "output_type": "stream",
          "text": [
            "Mounted at /content/drive\n"
          ]
        }
      ],
      "source": [
        "from google.colab import drive\n",
        "drive.mount('/content/drive')"
      ]
    },
    {
      "cell_type": "code",
      "execution_count": 6,
      "metadata": {
        "colab": {
          "base_uri": "https://localhost:8080/"
        },
        "id": "oBv5smWiHy10",
        "outputId": "659d1841-baf4-4a25-d728-2efda4f58314"
      },
      "outputs": [
        {
          "name": "stdout",
          "output_type": "stream",
          "text": [
            "        관측지점              관측시간  관측온도  관측습도    관측기압  관측풍속   관측풍향  관측최대풍속  \\\n",
            "0       기장_숲  2024-03-20 07:20   3.8  45.5  1004.5   1.2  308.3     3.9   \n",
            "1     횡성_30m  2024-03-22 08:40   0.4  60.4   910.8   1.7   67.8     5.7   \n",
            "2     제주_20m  2024-03-26 11:50   8.5  92.1   941.0   3.3  182.9     8.3   \n",
            "3  칠곡_도심(산단)  2024-03-10 17:00  13.2  21.4  1020.8   0.4  310.9     3.8   \n",
            "4      기장_산단  2024-03-15 15:30  20.6  14.9  1015.1   1.0  243.5     NaN   \n",
            "\n",
            "   관측미세먼지  관측초미세먼지  ...  (AVOC)배관관측온도  (BVOC)관측온도  (BVOC)관측습도  (BVOC)관측기압  \\\n",
            "0    26.0     25.4  ...         108.2         3.9        45.1      1004.6   \n",
            "1    35.5     28.7  ...         108.4         0.2        61.0       910.7   \n",
            "2     0.8      0.8  ...         106.4         8.5        91.5       941.1   \n",
            "3    26.3     19.0  ...         107.1        13.3        21.5      1020.7   \n",
            "4    15.5     14.9  ...         107.6        20.7        15.1      1015.1   \n",
            "\n",
            "   (BVOC)관측풍속  (BVOC)관측풍향  (BVOC)관측최대풍속  (BVOC)관측미세먼지  (BVOC)관측초미세먼지  \\\n",
            "0         1.1       310.7           3.9           5.5            5.6   \n",
            "1         1.9        69.2           5.7           8.0            6.3   \n",
            "2         2.6       180.8           8.3           0.2            0.2   \n",
            "3         0.5       286.0           3.8          12.3            8.0   \n",
            "4         1.1       241.3           NaN           1.6            2.0   \n",
            "\n",
            "   (BVOC)관측극초미세먼지  \n",
            "0             5.4  \n",
            "1             6.1  \n",
            "2             0.3  \n",
            "3             7.8  \n",
            "4             2.1  \n",
            "\n",
            "[5 rows x 31 columns]\n"
          ]
        }
      ],
      "source": [
        "data = pd.read_csv('/content/drive/MyDrive/data_2024_3.csv', encoding='euc-kr')\n",
        "\n",
        "# Shuffle the data\n",
        "data = data.sample(frac=1).reset_index(drop=True)\n",
        "\n",
        "print(data.head())\n",
        "# Define split ratios\n",
        "train_ratio = 0.7\n",
        "validation_ratio = 0.15\n",
        "test_ratio = 0.15\n",
        "\n",
        "# Split the data into training, validation, and testing sets\n",
        "train_data, temp_data = train_test_split(data, test_size=(1 - train_ratio))\n",
        "val_data, test_data = train_test_split(temp_data, test_size=test_ratio/(test_ratio + validation_ratio))\n",
        "\n",
        "# Save the splits to CSV files if needed\n",
        "train_data.to_csv(\"train_data.csv\", index=False)\n",
        "val_data.to_csv(\"val_data.csv\", index=False)\n",
        "test_data.to_csv(\"test_data.csv\", index=False)"
      ]
    }
  ],
  "metadata": {
    "colab": {
      "provenance": []
    },
    "kernelspec": {
      "display_name": "Python 3",
      "name": "python3"
    },
    "language_info": {
      "name": "python"
    }
  },
  "nbformat": 4,
  "nbformat_minor": 0
}
